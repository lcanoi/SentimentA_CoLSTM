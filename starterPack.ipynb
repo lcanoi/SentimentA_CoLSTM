{
  "nbformat": 4,
  "nbformat_minor": 0,
  "metadata": {
    "colab": {
      "provenance": []
    },
    "kernelspec": {
      "name": "python3",
      "display_name": "Python 3"
    },
    "language_info": {
      "name": "python"
    },
    "accelerator": "GPU",
    "gpuClass": "standard"
  },
  "cells": [
    {
      "cell_type": "markdown",
      "source": [
        "# Clasificación de Reseñas de Películas\n",
        "La premisa es que cada reseña de película puede ser positiva o negativa, con base en el contenido de la reseña.\n"
      ],
      "metadata": {
        "id": "UrqaLpkPKj-K"
      }
    },
    {
      "cell_type": "markdown",
      "source": [
        "## Carga del Dataset\n"
      ],
      "metadata": {
        "id": "NS2RvGXYLQ12"
      }
    },
    {
      "cell_type": "markdown",
      "source": [
        "Ten en cuenta que el valor `num_words=10000` corresponde a usar solo las primeras 10000 palabras más frecuentes en el dataset de entrenamiento.\n"
      ],
      "metadata": {
        "id": "GiEEJmQYLi2D"
      }
    },
    {
      "cell_type": "code",
      "source": [
        "# Inicialmente estaba en 10000 pero en COLAB Free no alcanza a entrenar\n",
        "NUM_WORDS=5000 "
      ],
      "metadata": {
        "id": "69it-Fi9bgPK"
      },
      "execution_count": 3,
      "outputs": []
    },
    {
      "cell_type": "code",
      "execution_count": 2,
      "metadata": {
        "id": "muY8v2cKKUFM",
        "colab": {
          "base_uri": "https://localhost:8080/"
        },
        "outputId": "2bc42a6f-596e-41f1-9b10-1e3f2c46047f"
      },
      "outputs": [
        {
          "output_type": "stream",
          "name": "stdout",
          "text": [
            "Downloading data from https://storage.googleapis.com/tensorflow/tf-keras-datasets/imdb.npz\n",
            "17464789/17464789 [==============================] - 2s 0us/step\n"
          ]
        }
      ],
      "source": [
        "from keras.datasets import imdb\n",
        "(train_data, train_labels), (test_data, test_labels) = imdb.load_data(\n",
        "    num_words=NUM_WORDS)"
      ]
    },
    {
      "cell_type": "markdown",
      "source": [
        "Teniendo en cuenta que ninguna palabra puede exceder el índice 10000, como máximo tendremos este índice en los conjuntos de entrenamiento y prueba."
      ],
      "metadata": {
        "id": "PI9L6BX4OYmR"
      }
    },
    {
      "cell_type": "code",
      "source": [
        "max([max(sequence) for sequence in train_data])"
      ],
      "metadata": {
        "colab": {
          "base_uri": "https://localhost:8080/"
        },
        "id": "1SGY7pwoL3Hh",
        "outputId": "da95497b-172f-4b1d-f2db-aa20acfff73f"
      },
      "execution_count": 4,
      "outputs": [
        {
          "output_type": "execute_result",
          "data": {
            "text/plain": [
              "4999"
            ]
          },
          "metadata": {},
          "execution_count": 4
        }
      ]
    },
    {
      "cell_type": "markdown",
      "source": [
        "Ahora veamos la primera reseña en el dataset de entrenamiento y su clasificación"
      ],
      "metadata": {
        "id": "dzvT6SwkN13L"
      }
    },
    {
      "cell_type": "code",
      "source": [
        "print(\"Review: \", train_data[0])\n",
        "print(\"Classification:\", 'Positive' if train_labels[0] else 'Negative')"
      ],
      "metadata": {
        "colab": {
          "base_uri": "https://localhost:8080/"
        },
        "id": "fqk2L7WML42n",
        "outputId": "bdf864e9-24ba-4a88-d3a4-dd40cbe587b3"
      },
      "execution_count": 5,
      "outputs": [
        {
          "output_type": "stream",
          "name": "stdout",
          "text": [
            "Review:  [1, 14, 22, 16, 43, 530, 973, 1622, 1385, 65, 458, 4468, 66, 3941, 4, 173, 36, 256, 5, 25, 100, 43, 838, 112, 50, 670, 2, 9, 35, 480, 284, 5, 150, 4, 172, 112, 167, 2, 336, 385, 39, 4, 172, 4536, 1111, 17, 546, 38, 13, 447, 4, 192, 50, 16, 6, 147, 2025, 19, 14, 22, 4, 1920, 4613, 469, 4, 22, 71, 87, 12, 16, 43, 530, 38, 76, 15, 13, 1247, 4, 22, 17, 515, 17, 12, 16, 626, 18, 2, 5, 62, 386, 12, 8, 316, 8, 106, 5, 4, 2223, 2, 16, 480, 66, 3785, 33, 4, 130, 12, 16, 38, 619, 5, 25, 124, 51, 36, 135, 48, 25, 1415, 33, 6, 22, 12, 215, 28, 77, 52, 5, 14, 407, 16, 82, 2, 8, 4, 107, 117, 2, 15, 256, 4, 2, 7, 3766, 5, 723, 36, 71, 43, 530, 476, 26, 400, 317, 46, 7, 4, 2, 1029, 13, 104, 88, 4, 381, 15, 297, 98, 32, 2071, 56, 26, 141, 6, 194, 2, 18, 4, 226, 22, 21, 134, 476, 26, 480, 5, 144, 30, 2, 18, 51, 36, 28, 224, 92, 25, 104, 4, 226, 65, 16, 38, 1334, 88, 12, 16, 283, 5, 16, 4472, 113, 103, 32, 15, 16, 2, 19, 178, 32]\n",
            "Classification: Positive\n"
          ]
        }
      ]
    },
    {
      "cell_type": "markdown",
      "source": [
        "Como puedes notar, el review es una lista de números o índices de palabras. Sin embargo, podemos definir una función para decodificar cualquier reseña. (Ten en cuenta que alguna palabra no tan frecuente puede desaparecer.)"
      ],
      "metadata": {
        "id": "s_2_asAzN7O4"
      }
    },
    {
      "cell_type": "code",
      "source": [
        "# Cargamos el diccionario que mapea las palabras a índices enteros\n",
        "word_index = imdb.get_word_index()\n",
        "\n",
        "# Reversamos para ahora mapear índices enteros en palabras\n",
        "reverse_word_index = dict(\n",
        "    [(value, key) for (key, value) in word_index.items()]\n",
        "    )\n",
        "\n",
        "# Definimos una función lambda para decodificar cualquier review.\n",
        "# Los primeros tres índices corresponden a `padding`, `start of sequence` y `unknown`\n",
        "decoded_review = lambda review: ' '.join(\n",
        "    [reverse_word_index.get(i - 3, '?') for i in review])"
      ],
      "metadata": {
        "id": "JjtQiuY-MPD8",
        "colab": {
          "base_uri": "https://localhost:8080/"
        },
        "outputId": "c14fc3fe-d06a-4c3e-c1f7-af69aa69e519"
      },
      "execution_count": 6,
      "outputs": [
        {
          "output_type": "stream",
          "name": "stdout",
          "text": [
            "Downloading data from https://storage.googleapis.com/tensorflow/tf-keras-datasets/imdb_word_index.json\n",
            "1641221/1641221 [==============================] - 1s 1us/step\n"
          ]
        }
      ]
    },
    {
      "cell_type": "code",
      "source": [
        "decoded_review(train_data[2])"
      ],
      "metadata": {
        "colab": {
          "base_uri": "https://localhost:8080/",
          "height": 70
        },
        "id": "nH6rcVYtMtHb",
        "outputId": "35381066-7b54-4701-8f1c-f550e18731c4"
      },
      "execution_count": 7,
      "outputs": [
        {
          "output_type": "execute_result",
          "data": {
            "text/plain": [
              "\"? this has to be one of the worst films of the ? when my friends i were watching this film being the target audience it was aimed at we just sat watched the first half an hour with our jaws touching the floor at how bad it really was the rest of the time everyone else in the theatre just started talking to each other leaving or generally crying into their popcorn that they actually paid money they had ? working to watch this ? excuse for a film it must have looked like a great idea on paper but on film it looks like no one in the film has a clue what is going on crap acting crap costumes i can't get across how ? this is to watch save yourself an hour a bit of your life\""
            ],
            "application/vnd.google.colaboratory.intrinsic+json": {
              "type": "string"
            }
          },
          "metadata": {},
          "execution_count": 7
        }
      ]
    },
    {
      "cell_type": "markdown",
      "source": [
        "## Preparación de los datos\n",
        "\n",
        "Dado que no podemos ingresar listas de enteros en la red neuronal, debemos convertirlas primero a \"tensores\". Para ello, debemos hacer lo siguiente:\n",
        "\n",
        "* Ajustar las listas para que tengan la misma longitud.\n",
        "* Convertirlas en tensores de enteros con tamaño `(samples, word_indices)`.\n",
        "* Usar la primera capa de la red para que maneje estos tensores, esto es, usando una capa de tipo `Embedding`.\n",
        "* Emplear One-hot encode para las listas. Es decir, enmascarar con unos y ceros la lista utilizando un vector de 10000 elementos. Si la reseña es `[1, 3]`, el vector codificado será `[0, 1, 0, 1, 0, 0, ...]`."
      ],
      "metadata": {
        "id": "fevZSZ6IQW1O"
      }
    },
    {
      "cell_type": "code",
      "source": [
        "import numpy as np\n",
        "\n",
        "def vectorize_sequences(sequences, dimension=NUM_WORDS):\n",
        "    results = np.zeros((len(sequences), dimension))\n",
        "    for i, sequence in enumerate(sequences):\n",
        "        results[i, sequence] = 1.\n",
        "    return results\n",
        "\n",
        "x_train = vectorize_sequences(train_data)\n",
        "x_test = vectorize_sequences(test_data)"
      ],
      "metadata": {
        "id": "PPv0iUOHVXBn"
      },
      "execution_count": 8,
      "outputs": []
    },
    {
      "cell_type": "markdown",
      "source": [
        "Como te puedes dar cuenta, con `vectorize_sequences` cumplimos las condiciones descritas antes. "
      ],
      "metadata": {
        "id": "BYmUN90PWRyh"
      }
    },
    {
      "cell_type": "code",
      "source": [
        "x_train[0]"
      ],
      "metadata": {
        "colab": {
          "base_uri": "https://localhost:8080/"
        },
        "id": "BcrU_d3RWyG4",
        "outputId": "7b6baef2-99bf-4a89-f11c-377863afc810"
      },
      "execution_count": 9,
      "outputs": [
        {
          "output_type": "execute_result",
          "data": {
            "text/plain": [
              "array([0., 1., 1., ..., 0., 0., 0.])"
            ]
          },
          "metadata": {},
          "execution_count": 9
        }
      ]
    },
    {
      "cell_type": "markdown",
      "source": [
        "Ahora, vectorizamos también las etiquetas y las adecuamos en términos de formato."
      ],
      "metadata": {
        "id": "cSaWAhw4W1p2"
      }
    },
    {
      "cell_type": "code",
      "source": [
        "y_train = np.asarray(train_labels).astype('float32')\n",
        "y_test = np.asarray(test_labels).astype('float32')"
      ],
      "metadata": {
        "id": "sf01eReJW9pl"
      },
      "execution_count": 10,
      "outputs": []
    },
    {
      "cell_type": "markdown",
      "source": [
        "Hasta este punto, ya la información está lista para ser ingresada a la red neuronal."
      ],
      "metadata": {
        "id": "kJhxG76SXA1Q"
      }
    },
    {
      "cell_type": "markdown",
      "source": [
        "## Construcción de la red\n"
      ],
      "metadata": {
        "id": "ggHJJUYAXHOv"
      }
    },
    {
      "cell_type": "markdown",
      "source": [
        "En este caso, construirémos una red con dos capas ocultas, ambas con 16 elementos y una capa final con un único elemento. Fíjate en las funciones de activación, estas tienen mucho que ver con lo que hemos visto en clase."
      ],
      "metadata": {
        "id": "VsnWHzSOYvgU"
      }
    },
    {
      "cell_type": "code",
      "source": [
        "from keras import models\n",
        "from keras import layers\n",
        "\n",
        "model = models.Sequential()\n",
        "model.add(layers.Dense(16, activation='relu', input_shape=(NUM_WORDS,)))\n",
        "model.add(layers.Dense(16, activation='relu'))\n",
        "model.add(layers.Dense(1, activation='sigmoid'))"
      ],
      "metadata": {
        "id": "lfZMPBm1XGaM"
      },
      "execution_count": 11,
      "outputs": []
    },
    {
      "cell_type": "markdown",
      "source": [
        "Compilamos el modelo definiendo un optimizador y la función de pérdida adecuada para clasificación binaria. Si deseas cambiar de optimizador, recuerda que puedes usar aquellos disponibles en `keras.optimizers`."
      ],
      "metadata": {
        "id": "0LpW22dzZNCY"
      }
    },
    {
      "cell_type": "code",
      "source": [
        "model.compile(optimizer='rmsprop', loss='binary_crossentropy', metrics=['accuracy'])"
      ],
      "metadata": {
        "id": "yMsSOsVRZNaB"
      },
      "execution_count": 12,
      "outputs": []
    },
    {
      "cell_type": "markdown",
      "source": [
        "Primero, antes de pasar a entrenar la red, debemos definir un dataset de validación. Esto se hace para monitorear la exactitud del modelo en datos que no ha utilizado antes. Para ello, creamos una colección con 10000 muestras del dataset original."
      ],
      "metadata": {
        "id": "3SGvrkYJZ-V1"
      }
    },
    {
      "cell_type": "code",
      "source": [
        "x_val = x_train[:NUM_WORDS]\n",
        "partial_x_train = x_train[NUM_WORDS:]\n",
        "\n",
        "y_val = y_train[:NUM_WORDS]\n",
        "partial_y_train = y_train[NUM_WORDS:]"
      ],
      "metadata": {
        "id": "6SiiTHEKaSjx"
      },
      "execution_count": 13,
      "outputs": []
    },
    {
      "cell_type": "markdown",
      "source": [
        "## Entrenamiento de la red\n",
        "Ahora sí, procedemos a entrenar el modelo con 20 épocas, con mini-batches de 512 muestras y utilizando los datos de validación antes definidos.\n"
      ],
      "metadata": {
        "id": "65DH--toZ5LO"
      }
    },
    {
      "cell_type": "code",
      "source": [
        "history = model.fit(partial_x_train,\n",
        "                    partial_y_train,\n",
        "                    epochs=20,\n",
        "                    batch_size=512,\n",
        "                    validation_data=(x_val, y_val))"
      ],
      "metadata": {
        "colab": {
          "base_uri": "https://localhost:8080/"
        },
        "id": "FHPiJy_MaYye",
        "outputId": "409fbe97-6247-4499-8bd2-a0a9361e4d89"
      },
      "execution_count": 14,
      "outputs": [
        {
          "output_type": "stream",
          "name": "stdout",
          "text": [
            "Epoch 1/20\n",
            "40/40 [==============================] - 6s 21ms/step - loss: 0.4985 - accuracy: 0.7850 - val_loss: 0.3654 - val_accuracy: 0.8662\n",
            "Epoch 2/20\n",
            "40/40 [==============================] - 0s 10ms/step - loss: 0.3101 - accuracy: 0.8877 - val_loss: 0.3083 - val_accuracy: 0.8812\n",
            "Epoch 3/20\n",
            "40/40 [==============================] - 0s 12ms/step - loss: 0.2511 - accuracy: 0.9091 - val_loss: 0.2849 - val_accuracy: 0.8860\n",
            "Epoch 4/20\n",
            "40/40 [==============================] - 0s 10ms/step - loss: 0.2217 - accuracy: 0.9182 - val_loss: 0.2952 - val_accuracy: 0.8814\n",
            "Epoch 5/20\n",
            "40/40 [==============================] - 0s 12ms/step - loss: 0.1993 - accuracy: 0.9255 - val_loss: 0.2901 - val_accuracy: 0.8842\n",
            "Epoch 6/20\n",
            "40/40 [==============================] - 0s 12ms/step - loss: 0.1832 - accuracy: 0.9323 - val_loss: 0.2930 - val_accuracy: 0.8834\n",
            "Epoch 7/20\n",
            "40/40 [==============================] - 0s 11ms/step - loss: 0.1717 - accuracy: 0.9361 - val_loss: 0.3477 - val_accuracy: 0.8652\n",
            "Epoch 8/20\n",
            "40/40 [==============================] - 0s 10ms/step - loss: 0.1605 - accuracy: 0.9404 - val_loss: 0.3520 - val_accuracy: 0.8668\n",
            "Epoch 9/20\n",
            "40/40 [==============================] - 0s 10ms/step - loss: 0.1547 - accuracy: 0.9427 - val_loss: 0.3568 - val_accuracy: 0.8658\n",
            "Epoch 10/20\n",
            "40/40 [==============================] - 0s 10ms/step - loss: 0.1469 - accuracy: 0.9447 - val_loss: 0.3366 - val_accuracy: 0.8774\n",
            "Epoch 11/20\n",
            "40/40 [==============================] - 0s 10ms/step - loss: 0.1395 - accuracy: 0.9488 - val_loss: 0.3783 - val_accuracy: 0.8664\n",
            "Epoch 12/20\n",
            "40/40 [==============================] - 0s 10ms/step - loss: 0.1300 - accuracy: 0.9531 - val_loss: 0.3955 - val_accuracy: 0.8616\n",
            "Epoch 13/20\n",
            "40/40 [==============================] - 0s 10ms/step - loss: 0.1254 - accuracy: 0.9543 - val_loss: 0.3650 - val_accuracy: 0.8774\n",
            "Epoch 14/20\n",
            "40/40 [==============================] - 0s 10ms/step - loss: 0.1181 - accuracy: 0.9572 - val_loss: 0.3775 - val_accuracy: 0.8754\n",
            "Epoch 15/20\n",
            "40/40 [==============================] - 0s 9ms/step - loss: 0.1113 - accuracy: 0.9610 - val_loss: 0.3970 - val_accuracy: 0.8744\n",
            "Epoch 16/20\n",
            "40/40 [==============================] - 0s 11ms/step - loss: 0.1044 - accuracy: 0.9629 - val_loss: 0.4356 - val_accuracy: 0.8666\n",
            "Epoch 17/20\n",
            "40/40 [==============================] - 1s 13ms/step - loss: 0.0976 - accuracy: 0.9668 - val_loss: 0.4500 - val_accuracy: 0.8646\n",
            "Epoch 18/20\n",
            "40/40 [==============================] - 1s 14ms/step - loss: 0.0963 - accuracy: 0.9669 - val_loss: 0.4284 - val_accuracy: 0.8730\n",
            "Epoch 19/20\n",
            "40/40 [==============================] - 1s 13ms/step - loss: 0.0834 - accuracy: 0.9721 - val_loss: 0.4437 - val_accuracy: 0.8692\n",
            "Epoch 20/20\n",
            "40/40 [==============================] - 1s 14ms/step - loss: 0.0837 - accuracy: 0.9720 - val_loss: 0.4616 - val_accuracy: 0.8688\n"
          ]
        }
      ]
    },
    {
      "cell_type": "markdown",
      "source": [
        "¿Qué información tiene `history_dict`?"
      ],
      "metadata": {
        "id": "HBYBigVqc-Ym"
      }
    },
    {
      "cell_type": "code",
      "source": [
        "history_dict = history.history\n",
        "history_dict.keys()"
      ],
      "metadata": {
        "colab": {
          "base_uri": "https://localhost:8080/"
        },
        "id": "sdaVEskMc9Hg",
        "outputId": "72457a97-9770-4dac-eb05-e919320d79c4"
      },
      "execution_count": 18,
      "outputs": [
        {
          "output_type": "execute_result",
          "data": {
            "text/plain": [
              "dict_keys(['loss', 'accuracy', 'val_loss', 'val_accuracy'])"
            ]
          },
          "metadata": {},
          "execution_count": 18
        }
      ]
    },
    {
      "cell_type": "markdown",
      "source": [
        "Ahora veamos cómo estuvo la función de pérdida durante el proceso de entrenamiento y validación"
      ],
      "metadata": {
        "id": "Onh5AZB1b_9b"
      }
    },
    {
      "cell_type": "code",
      "source": [
        "import matplotlib.pyplot as plt\n",
        "\n",
        "\n",
        "loss_values = history_dict['loss']\n",
        "val_loss_values = history_dict['val_loss']\n",
        "\n",
        "epochs = range(1, len(loss_values) + 1)\n",
        "\n",
        "plt.plot(epochs, loss_values, 'bo', label='Training loss')\n",
        "plt.plot(epochs, val_loss_values, 'b', label='Validation loss')\n",
        "plt.title('Training and validation loss')\n",
        "plt.xlabel('Epochs')\n",
        "plt.ylabel('Loss')\n",
        "plt.legend()\n",
        "\n",
        "plt.show()"
      ],
      "metadata": {
        "colab": {
          "base_uri": "https://localhost:8080/",
          "height": 472
        },
        "id": "6gup5bC4cCs3",
        "outputId": "7edf2b12-683e-4d40-a70b-fd302f2f75e6"
      },
      "execution_count": 19,
      "outputs": [
        {
          "output_type": "display_data",
          "data": {
            "text/plain": [
              "<Figure size 640x480 with 1 Axes>"
            ],
            "image/png": "[encoded data removed]"
          },
          "metadata": {}
        }
      ]
    },
    {
      "cell_type": "markdown",
      "source": [
        "Seguidamente, hacemos lo mismo con el accuracy durante el proceso de entrenamiento y validación"
      ],
      "metadata": {
        "id": "K475nm5IcpNe"
      }
    },
    {
      "cell_type": "code",
      "source": [
        "acc = history_dict['accuracy']\n",
        "val_acc = history_dict['val_accuracy']\n",
        "\n",
        "plt.plot(epochs, acc, 'bo', label='Training acc')\n",
        "plt.plot(epochs, val_acc, 'b', label='Validation acc')\n",
        "plt.title('Training and validation accuracy')\n",
        "plt.xlabel('Epochs')\n",
        "plt.ylabel('Accuracy')\n",
        "plt.legend()\n",
        "\n",
        "plt.show()"
      ],
      "metadata": {
        "colab": {
          "base_uri": "https://localhost:8080/",
          "height": 472
        },
        "id": "a0BNGcjAcdxj",
        "outputId": "23522881-e5e4-4ee8-b293-c74321efe1a0"
      },
      "execution_count": 21,
      "outputs": [
        {
          "output_type": "display_data",
          "data": {
            "text/plain": [
              "<Figure size 640x480 with 1 Axes>"
            ],
            "image/png": "[encoded data removed]"
          },
          "metadata": {}
        }
      ]
    },
    {
      "cell_type": "markdown",
      "source": [
        "## Evaluación del modelo"
      ],
      "metadata": {
        "id": "SKypyNFieAxy"
      }
    },
    {
      "cell_type": "code",
      "source": [
        "results = model.evaluate(x_test, y_test)"
      ],
      "metadata": {
        "colab": {
          "base_uri": "https://localhost:8080/"
        },
        "id": "YAYL7MFMeFmm",
        "outputId": "9113decc-de1a-40f4-b870-1957ca4dd8ed"
      },
      "execution_count": 22,
      "outputs": [
        {
          "output_type": "stream",
          "name": "stdout",
          "text": [
            "782/782 [==============================] - 2s 2ms/step - loss: 0.5125 - accuracy: 0.8531\n"
          ]
        }
      ]
    },
    {
      "cell_type": "markdown",
      "source": [
        "Si observamos, hemos obtenido un 83.68% de accuracy, un valor no tan bueno, si tenemos en cuenta que en el estado del arte es de 95%. ¿Es posible mejorar este valor? Sí, y la respuesta está en las gráficas que obtuvimos antes. Es decir, podemos volver a implementar el modelo y entrenamiento, pero esta vez con menos épocas, justo antes de que comience a degenerarse la dinámica del accuracy/loss."
      ],
      "metadata": {
        "id": "2sfzoYnIeinZ"
      }
    },
    {
      "cell_type": "code",
      "source": [
        "model = models.Sequential()\n",
        "model.add(layers.Dense(16, activation='relu', input_shape=(NUM_WORDS,)))\n",
        "model.add(layers.Dense(16, activation='relu'))\n",
        "model.add(layers.Dense(1, activation='sigmoid'))\n",
        "model.compile(optimizer='rmsprop',\n",
        "              loss='binary_crossentropy',\n",
        "              metrics=['accuracy'])\n",
        "model.fit(x_train, y_train, epochs=4, batch_size=512)"
      ],
      "metadata": {
        "colab": {
          "base_uri": "https://localhost:8080/"
        },
        "id": "09PMc8VUeX-7",
        "outputId": "a956a94f-f7fe-4fdd-e8d6-de01ed5c3fc1"
      },
      "execution_count": 23,
      "outputs": [
        {
          "output_type": "stream",
          "name": "stdout",
          "text": [
            "Epoch 1/4\n",
            "49/49 [==============================] - 1s 8ms/step - loss: 0.4626 - accuracy: 0.8082\n",
            "Epoch 2/4\n",
            "49/49 [==============================] - 0s 8ms/step - loss: 0.2880 - accuracy: 0.8926\n",
            "Epoch 3/4\n",
            "49/49 [==============================] - 0s 8ms/step - loss: 0.2378 - accuracy: 0.9097\n",
            "Epoch 4/4\n",
            "49/49 [==============================] - 0s 8ms/step - loss: 0.2154 - accuracy: 0.9170\n"
          ]
        },
        {
          "output_type": "execute_result",
          "data": {
            "text/plain": [
              "<keras.callbacks.History at 0x7f1acecbdf70>"
            ]
          },
          "metadata": {},
          "execution_count": 23
        }
      ]
    },
    {
      "cell_type": "markdown",
      "source": [
        "Evaluando de nuevo, observamos que ahora nuestro accuracy es de 88.47%."
      ],
      "metadata": {
        "id": "QcfqoIDofGcD"
      }
    },
    {
      "cell_type": "code",
      "source": [
        "results = model.evaluate(x_test, y_test)"
      ],
      "metadata": {
        "id": "MQ4zPRGxfGuU",
        "outputId": "5cd03041-2c6f-4356-9bf4-a7bba3454d3f",
        "colab": {
          "base_uri": "https://localhost:8080/"
        }
      },
      "execution_count": 24,
      "outputs": [
        {
          "output_type": "stream",
          "name": "stdout",
          "text": [
            "782/782 [==============================] - 2s 3ms/step - loss: 0.2935 - accuracy: 0.8820\n"
          ]
        }
      ]
    }
  ]
}